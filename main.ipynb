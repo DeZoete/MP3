{
 "cells": [
  {
   "cell_type": "code",
   "execution_count": 46,
   "id": "5493d0ee",
   "metadata": {},
   "outputs": [
    {
     "name": "stderr",
     "output_type": "stream",
     "text": [
      "<>:4: SyntaxWarning: invalid escape sequence '\\A'\n",
      "<>:5: SyntaxWarning: invalid escape sequence '\\A'\n",
      "<>:6: SyntaxWarning: invalid escape sequence '\\F'\n",
      "<>:7: SyntaxWarning: invalid escape sequence '\\F'\n",
      "<>:4: SyntaxWarning: invalid escape sequence '\\A'\n",
      "<>:5: SyntaxWarning: invalid escape sequence '\\A'\n",
      "<>:6: SyntaxWarning: invalid escape sequence '\\F'\n",
      "<>:7: SyntaxWarning: invalid escape sequence '\\F'\n",
      "C:\\Users\\danie\\AppData\\Local\\Temp\\ipykernel_3832\\139192479.py:4: SyntaxWarning: invalid escape sequence '\\A'\n",
      "  df1 = pd.read_excel(\"Data\\Afbrudt_institution.xlsx\")\n",
      "C:\\Users\\danie\\AppData\\Local\\Temp\\ipykernel_3832\\139192479.py:5: SyntaxWarning: invalid escape sequence '\\A'\n",
      "  df2 = pd.read_excel(\"Data\\Afbrudte uddannelse .xlsx\")\n",
      "C:\\Users\\danie\\AppData\\Local\\Temp\\ipykernel_3832\\139192479.py:6: SyntaxWarning: invalid escape sequence '\\F'\n",
      "  df3 = pd.read_excel(\"Data\\Fuldførte institution .xlsx\")\n",
      "C:\\Users\\danie\\AppData\\Local\\Temp\\ipykernel_3832\\139192479.py:7: SyntaxWarning: invalid escape sequence '\\F'\n",
      "  df4 = pd.read_excel(\"Data\\Fuldførte uddannelse .xlsx\")\n"
     ]
    }
   ],
   "source": [
    "import pandas as pd\n",
    "\n",
    "\n",
    "df1 = pd.read_excel(\"Data\\Afbrudt_institution.xlsx\")\n",
    "df2 = pd.read_excel(\"Data\\Afbrudte uddannelse .xlsx\")\n",
    "df3 = pd.read_excel(\"Data\\Fuldførte institution .xlsx\")\n",
    "df4 = pd.read_excel(\"Data\\Fuldførte uddannelse .xlsx\")\n"
   ]
  },
  {
   "cell_type": "code",
   "execution_count": 47,
   "id": "ea82d805",
   "metadata": {},
   "outputs": [
    {
     "name": "stdout",
     "output_type": "stream",
     "text": [
      "         Institution         Subinstitution                 InstitutionType  \\\n",
      "0  Erhvervsakademier                  Total                             NaN   \n",
      "1  Erhvervsakademier  Erhvervsakademi Dania                           Total   \n",
      "2  Erhvervsakademier  Erhvervsakademi Dania   Erhvervsakademi Dania, Grenaa   \n",
      "3  Erhvervsakademier  Erhvervsakademi Dania  Erhvervsakademi Dania, Hadsten   \n",
      "4  Erhvervsakademier  Erhvervsakademi Dania    Erhvervsakademi Dania, Hobro   \n",
      "\n",
      "     Year   Antal  \n",
      "0  2015.0     NaN  \n",
      "1  2015.0  3805.0  \n",
      "2  2015.0   421.0  \n",
      "3  2015.0    26.0  \n",
      "4  2015.0     6.0  \n"
     ]
    }
   ],
   "source": [
    "\n",
    "print(df1.head())\n"
   ]
  },
  {
   "cell_type": "code",
   "execution_count": 48,
   "id": "eb94f27f",
   "metadata": {},
   "outputs": [],
   "source": [
    "df1 = df1[~df1.map(lambda x: isinstance(x, str) and 'total' in x.lower()).any(axis=1)]"
   ]
  },
  {
   "cell_type": "markdown",
   "id": "2cdd3e23",
   "metadata": {},
   "source": []
  },
  {
   "cell_type": "code",
   "execution_count": 49,
   "id": "320ec9c4",
   "metadata": {},
   "outputs": [
    {
     "name": "stdout",
     "output_type": "stream",
     "text": [
      "         Institution         Subinstitution  \\\n",
      "2  Erhvervsakademier  Erhvervsakademi Dania   \n",
      "3  Erhvervsakademier  Erhvervsakademi Dania   \n",
      "4  Erhvervsakademier  Erhvervsakademi Dania   \n",
      "5  Erhvervsakademier  Erhvervsakademi Dania   \n",
      "6  Erhvervsakademier  Erhvervsakademi Dania   \n",
      "\n",
      "                             InstitutionType    Year  Antal  \n",
      "2              Erhvervsakademi Dania, Grenaa  2015.0  421.0  \n",
      "3             Erhvervsakademi Dania, Hadsten  2015.0   26.0  \n",
      "4               Erhvervsakademi Dania, Hobro  2015.0    6.0  \n",
      "5             Erhvervsakademi Dania, Horsens  2015.0   42.0  \n",
      "6  Erhvervsakademi Dania, Horsens (e-læring)  2015.0   40.0  \n"
     ]
    }
   ],
   "source": [
    "print(df1.head()  )"
   ]
  }
 ],
 "metadata": {
  "kernelspec": {
   "display_name": "base",
   "language": "python",
   "name": "python3"
  },
  "language_info": {
   "codemirror_mode": {
    "name": "ipython",
    "version": 3
   },
   "file_extension": ".py",
   "mimetype": "text/x-python",
   "name": "python",
   "nbconvert_exporter": "python",
   "pygments_lexer": "ipython3",
   "version": "3.12.7"
  }
 },
 "nbformat": 4,
 "nbformat_minor": 5
}
